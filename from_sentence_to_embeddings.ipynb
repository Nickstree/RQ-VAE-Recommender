{
 "cells": [
  {
   "cell_type": "code",
   "execution_count": 2,
   "metadata": {},
   "outputs": [
    {
     "name": "stdout",
     "output_type": "stream",
     "text": [
      "[[-0.00904849  0.01913359  0.02657794 ... -0.00876412 -0.05602206\n",
      "  -0.02163094]\n",
      " [-0.00785422  0.03018173  0.03129675 ... -0.01246878 -0.06240674\n",
      "  -0.0059097 ]]\n"
     ]
    }
   ],
   "source": [
    "from sentence_transformers import SentenceTransformer\n",
    "sentences = [\"This is an example sentence\", \"Each sentence is converted\"]\n",
    "\n",
    "model = SentenceTransformer('sentence-transformers/sentence-t5-base')\n",
    "embeddings = model.encode(sentences)\n",
    "print(embeddings)\n"
   ]
  },
  {
   "cell_type": "code",
   "execution_count": 24,
   "metadata": {},
   "outputs": [
    {
     "name": "stdout",
     "output_type": "stream",
     "text": [
      "Detected encoding: ISO-8859-1\n"
     ]
    }
   ],
   "source": [
    "import chardet\n",
    "\n",
    "# 檢測編碼\n",
    "with open('dataset/ml-1m/raw/movies.dat', 'rb') as file:\n",
    "    raw_data = file.read()\n",
    "    result = chardet.detect(raw_data)\n",
    "    encoding = result['encoding']\n",
    "\n",
    "print(f\"Detected encoding: {encoding}\")"
   ]
  },
  {
   "cell_type": "code",
   "execution_count": 28,
   "metadata": {},
   "outputs": [
    {
     "name": "stderr",
     "output_type": "stream",
     "text": [
      "100%|██████████| 3883/3883 [00:12<00:00, 322.21it/s]\n"
     ]
    }
   ],
   "source": [
    "import pickle\n",
    "from tqdm import tqdm\n",
    "embeddings_dict = {}\n",
    "with open('dataset/ml-1m/raw/movies.dat', 'rb') as file:\n",
    "    lines = file.readlines()\n",
    "    for line in tqdm(lines):\n",
    "        line = line.decode('ISO-8859-1').strip().split('::')\n",
    "        movie_id = line[0]\n",
    "        movie_name = ''.join(line[1].split(' (')[:-1])\n",
    "        movie_year = line[1].split(' (')[-1].strip(')')\n",
    "        movie_cat = line[2].split('|')\n",
    "        movie_cat_str = ', '.join(movie_cat)\n",
    "        sentence = f\"{movie_name} is a movie released in {movie_year}. It falls under the following categories: {movie_cat_str}.\"\n",
    "        embeddings = model.encode(sentence)\n",
    "        embeddings_dict[int(movie_id)] = embeddings\n",
    "\n",
    "with open('dataset/ml-1m/processed/embeddings.pkl', 'wb') as f:\n",
    "    pickle.dump(embeddings_dict, f)"
   ]
  },
  {
   "cell_type": "code",
   "execution_count": 2,
   "metadata": {},
   "outputs": [
    {
     "name": "stdout",
     "output_type": "stream",
     "text": [
      "768\n"
     ]
    }
   ],
   "source": [
    "from data.movie_lens import MovieLensMovieData_from_embeddings\n",
    "dataset = MovieLensMovieData_from_embeddings('dataset/ml-1m')\n",
    "print(len(dataset[0]))"
   ]
  },
  {
   "cell_type": "code",
   "execution_count": 5,
   "metadata": {},
   "outputs": [
    {
     "name": "stdout",
     "output_type": "stream",
     "text": [
      "quantize in train mode\n",
      "quantize in train mode\n",
      "quantize in train mode\n",
      "tensor(0.1147, grad_fn=<MeanBackward0>)\n"
     ]
    },
    {
     "name": "stderr",
     "output_type": "stream",
     "text": [
      "/tmp/ipykernel_24394/2109223039.py:12: UserWarning: To copy construct from a tensor, it is recommended to use sourceTensor.clone().detach() or sourceTensor.clone().detach().requires_grad_(True), rather than torch.tensor(sourceTensor).\n",
      "  tensor = torch.tensor(dataset[3]).unsqueeze(0)\n"
     ]
    }
   ],
   "source": [
    "from modules.rqvae import RqVae\n",
    "import torch\n",
    "model = RqVae(\n",
    "        input_dim=768,\n",
    "        embed_dim=32,\n",
    "        hidden_dim=32,\n",
    "        codebook_size=256,\n",
    "        n_layers=3\n",
    "    )\n",
    "model.load_state_dict(torch.load('model/best_model.pth'))\n",
    "model.eval()\n",
    "tensor = torch.tensor(dataset[3]).unsqueeze(0)\n",
    "print(model(tensor, 0.1))"
   ]
  }
 ],
 "metadata": {
  "kernelspec": {
   "display_name": "base",
   "language": "python",
   "name": "python3"
  },
  "language_info": {
   "codemirror_mode": {
    "name": "ipython",
    "version": 3
   },
   "file_extension": ".py",
   "mimetype": "text/x-python",
   "name": "python",
   "nbconvert_exporter": "python",
   "pygments_lexer": "ipython3",
   "version": "3.8.12"
  }
 },
 "nbformat": 4,
 "nbformat_minor": 2
}
