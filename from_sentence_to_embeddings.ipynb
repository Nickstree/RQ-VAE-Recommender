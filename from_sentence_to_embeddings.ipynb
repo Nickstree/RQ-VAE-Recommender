{
 "cells": [
  {
   "cell_type": "code",
   "execution_count": 1,
   "metadata": {},
   "outputs": [
    {
     "name": "stderr",
     "output_type": "stream",
     "text": [
      "/opt/conda/lib/python3.8/site-packages/tqdm/auto.py:22: TqdmWarning: IProgress not found. Please update jupyter and ipywidgets. See https://ipywidgets.readthedocs.io/en/stable/user_install.html\n",
      "  from .autonotebook import tqdm as notebook_tqdm\n"
     ]
    },
    {
     "name": "stdout",
     "output_type": "stream",
     "text": [
      "[[-0.00904849  0.01913359  0.02657794 ... -0.00876412 -0.05602206\n",
      "  -0.02163094]\n",
      " [-0.00785422  0.03018173  0.03129675 ... -0.01246878 -0.06240674\n",
      "  -0.0059097 ]]\n"
     ]
    }
   ],
   "source": [
    "from sentence_transformers import SentenceTransformer\n",
    "sentences = [\"This is an example sentence\", \"Each sentence is converted\"]\n",
    "\n",
    "model = SentenceTransformer('sentence-transformers/sentence-t5-base')\n",
    "embeddings = model.encode(sentences)\n",
    "print(embeddings)\n"
   ]
  },
  {
   "cell_type": "code",
   "execution_count": 3,
   "metadata": {},
   "outputs": [],
   "source": [
    "import pandas as pd\n",
    "df_meta = pd.read_pickle('/home/nick/RQ-VAE-Recommender/dataset/beauty/processed/metadata_sentence.pkl')"
   ]
  },
  {
   "cell_type": "code",
   "execution_count": 9,
   "metadata": {},
   "outputs": [
    {
     "name": "stderr",
     "output_type": "stream",
     "text": [
      "259204it [18:38, 231.64it/s]\n"
     ]
    }
   ],
   "source": [
    "import pickle\n",
    "from tqdm import tqdm\n",
    "embeddings_dict = {}\n",
    "for i, row in tqdm(df_meta[['asin', 'sentence']].iterrows()):\n",
    "    embeddings_dict[row['asin']] = model.encode(row['sentence'])\n",
    "\n",
    "with open('/home/nick/RQ-VAE-Recommender/dataset/beauty/processed/embeddings.pkl', 'wb') as f:\n",
    "    pickle.dump(embeddings_dict, f)"
   ]
  },
  {
   "cell_type": "code",
   "execution_count": 23,
   "metadata": {},
   "outputs": [
    {
     "name": "stdout",
     "output_type": "stream",
     "text": [
      "Detected encoding: ISO-8859-1\n"
     ]
    }
   ],
   "source": [
    "import chardet\n",
    "\n",
    "# 檢測編碼\n",
    "with open('dataset/ml-1m/raw/movies.dat', 'rb') as file:\n",
    "    raw_data = file.read()\n",
    "    result = chardet.detect(raw_data)\n",
    "    encoding = result['encoding']\n",
    "\n",
    "print(f\"Detected encoding: {encoding}\")"
   ]
  },
  {
   "cell_type": "code",
   "execution_count": 24,
   "metadata": {},
   "outputs": [
    {
     "name": "stderr",
     "output_type": "stream",
     "text": [
      "100%|██████████| 3883/3883 [00:19<00:00, 203.79it/s]\n"
     ]
    }
   ],
   "source": [
    "import pickle\n",
    "from tqdm import tqdm\n",
    "embeddings_dict = {}\n",
    "with open('dataset/ml-1m/raw/movies.dat', 'rb') as file:\n",
    "    lines = file.readlines()\n",
    "    for line in tqdm(lines):\n",
    "        line = line.decode('ISO-8859-1').strip().split('::')\n",
    "        movie_id = line[0]\n",
    "        movie_name = ''.join(line[1].split(' (')[:-1])\n",
    "        movie_year = line[1].split(' (')[-1].strip(')')\n",
    "        movie_cat = line[2].split('|')\n",
    "        movie_cat_str = ', '.join(movie_cat)\n",
    "        # sentence = f\"[{movie_name}] is a movie released in {movie_year}. categories: {movie_cat_str}.\"\n",
    "        sentence = f'The movie titled \"{movie_name}\", released in the year {movie_year}, falls under the categories of {movie_cat_str}'\n",
    "        embeddings = model.encode(sentence)\n",
    "        embeddings_dict[int(movie_id)] = embeddings\n",
    "\n",
    "with open('dataset/ml-1m/processed/embeddings.pkl', 'wb') as f:\n",
    "    pickle.dump(embeddings_dict, f)"
   ]
  },
  {
   "cell_type": "code",
   "execution_count": 2,
   "metadata": {},
   "outputs": [
    {
     "name": "stdout",
     "output_type": "stream",
     "text": [
      "768\n"
     ]
    }
   ],
   "source": [
    "from data.movie_lens import MovieLensMovieData_from_embeddings\n",
    "dataset = MovieLensMovieData_from_embeddings('dataset/ml-1m')\n",
    "print(len(dataset[0]))"
   ]
  },
  {
   "cell_type": "code",
   "execution_count": 4,
   "metadata": {},
   "outputs": [
    {
     "name": "stdout",
     "output_type": "stream",
     "text": [
      "RqVaeOutput(embeddings=tensor([[[ 8.6342e-01, -8.1423e-02, -5.5795e-01],\n",
      "         [ 3.8336e-01, -5.3591e-02, -1.3050e-01],\n",
      "         [ 1.7875e-01,  1.0427e-01,  6.8338e-01],\n",
      "         [-5.3907e-01,  2.1487e-02,  1.1842e+00],\n",
      "         [-1.8409e+00, -6.0062e-02,  1.3555e+00],\n",
      "         [-9.8929e-01, -2.0820e-02, -7.3043e-01],\n",
      "         [ 6.1163e-01, -2.0457e-01,  5.7366e-01],\n",
      "         [-2.7220e-01, -1.8315e-01, -9.2454e-01],\n",
      "         [-1.0223e+00, -5.5717e-02, -1.8583e+00],\n",
      "         [ 1.5896e+00, -7.3189e-02, -8.0277e-01],\n",
      "         [-3.7267e-01,  3.2768e-01,  5.6650e-01],\n",
      "         [ 1.4416e-01, -6.8966e-02,  8.4322e-01],\n",
      "         [-1.0863e+00, -5.2032e-03, -3.9928e-01],\n",
      "         [-4.1238e-01,  9.9697e-02,  7.1688e-01],\n",
      "         [-8.0035e-01,  1.1760e-01, -9.7424e-01],\n",
      "         [ 3.8582e-01, -8.7549e-03,  1.4761e+00],\n",
      "         [-1.1912e+00,  5.0613e-02,  4.5632e-01],\n",
      "         [ 3.5895e-01, -1.9070e-02, -2.6142e-01],\n",
      "         [-1.3698e-01, -3.6141e-01,  1.5088e-01],\n",
      "         [-2.1422e-01, -5.2237e-02,  1.2304e+00],\n",
      "         [-3.6173e-01, -2.7594e-01, -6.0459e-01],\n",
      "         [-1.1194e-01,  4.9136e-02, -1.5219e-01],\n",
      "         [ 1.0868e+00,  1.1866e-01,  6.9312e-01],\n",
      "         [-1.0499e+00, -7.4512e-02,  6.6423e-01],\n",
      "         [-5.3024e-02, -7.7661e-02, -2.7751e-01],\n",
      "         [ 4.3892e-01, -7.4295e-02,  8.7203e-01],\n",
      "         [-9.8233e-01, -4.4005e-02, -9.4182e-03],\n",
      "         [-9.4271e-02,  3.2428e-01, -9.0739e-01],\n",
      "         [-9.7232e-01, -3.2325e-02,  3.0406e-01],\n",
      "         [ 7.5271e-01,  1.6928e-01, -7.9708e-01],\n",
      "         [ 1.1245e+00,  1.1559e-01, -3.9336e-01],\n",
      "         [ 1.4033e+00, -4.5540e-02,  1.1701e+00],\n",
      "         [-2.4183e-01, -2.4861e-01, -2.0089e-01],\n",
      "         [ 6.4337e-01, -7.3443e-02, -9.4922e-01],\n",
      "         [ 1.4865e-01,  1.2128e-01,  1.5482e-01],\n",
      "         [ 2.5498e-03, -1.6560e-01, -1.8777e-01],\n",
      "         [ 1.4352e+00,  1.7541e-01,  1.1285e-01],\n",
      "         [ 3.7880e-01, -9.2354e-02, -6.6555e-01],\n",
      "         [ 1.0277e+00,  1.6139e-02, -6.2001e-01],\n",
      "         [-7.3679e-01,  1.9027e-01,  9.5768e-01],\n",
      "         [ 3.6420e-02,  3.1816e-01,  1.1368e+00],\n",
      "         [ 3.5356e-01, -3.3668e-02,  7.4587e-01],\n",
      "         [-4.5883e-01,  1.4105e-01, -4.2459e-01],\n",
      "         [-1.0344e-05, -1.7122e-01,  2.7005e+00],\n",
      "         [-9.7330e-01,  5.5298e-02, -2.2782e-01],\n",
      "         [-5.8033e-01, -2.8937e-02,  8.7117e-01],\n",
      "         [ 1.2819e-01,  3.8260e-01, -1.8709e+00],\n",
      "         [ 2.9225e-01,  1.8922e-03,  2.8972e-01],\n",
      "         [-1.6293e+00,  5.9498e-02,  3.1771e-01],\n",
      "         [-1.5057e+00, -1.0240e-01, -1.6754e-01],\n",
      "         [ 1.0092e+00,  2.5692e-02, -6.6833e-01],\n",
      "         [ 5.7503e-01, -1.2485e-01,  1.8332e-01],\n",
      "         [-1.4630e+00, -1.0108e-01,  7.5049e-01],\n",
      "         [ 1.1700e-02,  3.1338e-01, -5.2116e-01],\n",
      "         [-3.9889e-01, -3.0721e-01,  5.5873e-01],\n",
      "         [ 1.3795e+00,  2.3234e-01, -1.3420e+00],\n",
      "         [ 1.3746e+00, -1.5940e-01, -1.9803e+00],\n",
      "         [-1.6028e+00,  1.8323e-01, -5.3739e-02],\n",
      "         [-1.2809e+00, -1.7547e-01,  9.5841e-02],\n",
      "         [ 5.5533e-01, -9.0113e-02, -4.1439e-01],\n",
      "         [-6.0156e-01, -5.7457e-02, -4.5830e-01],\n",
      "         [-6.9431e-01,  1.4443e-01,  6.4357e-02],\n",
      "         [ 9.9834e-02,  1.1739e-01,  3.9468e-02],\n",
      "         [ 2.3944e-01, -9.6848e-02,  1.0602e+00],\n",
      "         [ 2.1234e-01,  2.0149e-01, -1.1058e+00],\n",
      "         [ 1.4917e+00,  3.3026e-01, -1.4894e+00],\n",
      "         [-1.7249e+00,  5.5264e-02, -1.6216e-01],\n",
      "         [ 1.5450e-01, -1.1378e-01,  7.4202e-01],\n",
      "         [ 2.6043e-01,  1.0243e-01,  1.0637e+00],\n",
      "         [-3.6023e-01,  1.6005e-02, -2.2971e-01],\n",
      "         [ 1.1079e-02, -2.3901e-01,  1.1061e-02],\n",
      "         [-2.4903e-01, -3.7333e-02, -8.1320e-02],\n",
      "         [-2.6243e-01, -1.9499e-01, -9.7438e-02],\n",
      "         [-4.7634e-02, -7.2463e-02,  4.9120e-02],\n",
      "         [ 1.0524e+00,  8.1809e-02, -1.2605e-01],\n",
      "         [ 1.1251e+00, -2.2315e-01,  4.7470e-02],\n",
      "         [ 1.3019e+00, -1.2966e-01, -4.3439e-01],\n",
      "         [ 8.2225e-01,  3.2763e-01,  3.6256e-01],\n",
      "         [-1.1807e+00,  1.8896e-01,  5.5668e-01],\n",
      "         [ 9.6956e-01,  3.2247e-02, -2.5037e+00],\n",
      "         [ 4.1268e-01, -1.6803e-01,  5.8026e-01],\n",
      "         [ 1.4878e-01,  6.6412e-02, -1.1401e+00],\n",
      "         [-1.7427e-01, -6.8464e-02,  1.4315e+00],\n",
      "         [ 5.3696e-01,  1.5114e-01, -1.2659e-01],\n",
      "         [-7.9413e-01,  3.7319e-02,  1.2262e+00],\n",
      "         [ 1.6731e-02,  1.3812e-01,  4.6793e-01],\n",
      "         [ 1.3649e+00,  9.4413e-02,  2.5079e-03],\n",
      "         [ 6.3402e-01,  2.0412e-01,  1.8666e+00],\n",
      "         [ 1.2012e+00,  6.1046e-02, -2.2896e+00],\n",
      "         [-1.1816e+00,  1.0039e-03,  5.7015e-01],\n",
      "         [ 1.0115e+00,  1.5579e-01,  1.5222e+00],\n",
      "         [ 6.5269e-01, -2.5149e-01, -2.8232e-01],\n",
      "         [ 1.1660e+00, -4.1280e-02,  7.7109e-01],\n",
      "         [ 6.2909e-01,  2.4081e-01,  4.3510e-01],\n",
      "         [ 1.7170e+00,  3.4702e-01, -1.4506e+00],\n",
      "         [ 6.5893e-01,  1.6363e-01,  3.2548e-01]]], grad_fn=<StackBackward0>), residuals=tensor([[[-4.8169e-02, -9.1159e-01, -8.3016e-01],\n",
      "         [ 1.4949e-02, -3.6841e-01, -3.1482e-01],\n",
      "         [-1.0530e-01, -2.8405e-01, -3.8832e-01],\n",
      "         [-2.6690e-02,  5.1238e-01,  4.9090e-01],\n",
      "         [ 7.9772e-02,  1.9207e+00,  1.9807e+00],\n",
      "         [ 4.4199e-02,  1.0335e+00,  1.0543e+00],\n",
      "         [ 1.1233e-01, -4.9930e-01, -2.9474e-01],\n",
      "         [ 4.5804e-02,  3.1800e-01,  5.0115e-01],\n",
      "         [-6.1460e-02,  9.6079e-01,  1.0165e+00],\n",
      "         [-1.3594e-02, -1.6032e+00, -1.5301e+00],\n",
      "         [-5.4778e-02,  3.1789e-01, -9.7937e-03],\n",
      "         [-1.0366e-01, -2.4782e-01, -1.7886e-01],\n",
      "         [-1.6469e-02,  1.0699e+00,  1.0751e+00],\n",
      "         [ 3.1068e-02,  4.4345e-01,  3.4375e-01],\n",
      "         [-4.8224e-04,  7.9987e-01,  6.8227e-01],\n",
      "         [-9.7825e-02, -4.8365e-01, -4.7489e-01],\n",
      "         [-2.8804e-02,  1.1624e+00,  1.1118e+00],\n",
      "         [-7.5555e-02, -4.3451e-01, -4.1544e-01],\n",
      "         [ 6.9101e-02,  2.0608e-01,  5.6749e-01],\n",
      "         [ 2.0758e-03,  2.1630e-01,  2.6853e-01],\n",
      "         [-2.4853e-02,  3.3688e-01,  6.1282e-01],\n",
      "         [-9.5002e-03,  1.0244e-01,  5.3301e-02],\n",
      "         [ 2.3035e-02, -1.0638e+00, -1.1824e+00],\n",
      "         [-1.2464e-01,  9.2523e-01,  9.9975e-01],\n",
      "         [ 2.3351e-02,  7.6375e-02,  1.5404e-01],\n",
      "         [ 2.3043e-02, -4.1588e-01, -3.4159e-01],\n",
      "         [-2.6949e-03,  9.7963e-01,  1.0236e+00],\n",
      "         [ 5.6755e-02,  1.5103e-01, -1.7325e-01],\n",
      "         [-6.1190e-02,  9.1113e-01,  9.4346e-01],\n",
      "         [-1.4464e-02, -7.6718e-01, -9.3645e-01],\n",
      "         [ 4.0165e-02, -1.0843e+00, -1.1999e+00],\n",
      "         [-2.7517e-02, -1.4309e+00, -1.3853e+00],\n",
      "         [-6.7307e-02,  1.7453e-01,  4.2314e-01],\n",
      "         [ 1.0852e-01, -5.3485e-01, -4.6141e-01],\n",
      "         [-7.2681e-02, -2.2133e-01, -3.4261e-01],\n",
      "         [ 1.2177e-01,  1.1922e-01,  2.8483e-01],\n",
      "         [-7.7690e-03, -1.4430e+00, -1.6184e+00],\n",
      "         [ 8.6388e-02, -2.9241e-01, -2.0005e-01],\n",
      "         [ 1.0036e-02, -1.0177e+00, -1.0338e+00],\n",
      "         [ 7.3843e-02,  8.1063e-01,  6.2036e-01],\n",
      "         [ 4.9596e-02,  1.3176e-02, -3.0498e-01],\n",
      "         [-1.2074e-01, -4.7431e-01, -4.4064e-01],\n",
      "         [ 4.6217e-03,  4.6345e-01,  3.2241e-01],\n",
      "         [-5.6023e-02, -5.6012e-02,  1.1521e-01],\n",
      "         [ 3.8946e-02,  1.0122e+00,  9.5695e-01],\n",
      "         [ 6.7144e-02,  6.4747e-01,  6.7641e-01],\n",
      "         [ 4.2041e-02, -8.6148e-02, -4.6875e-01],\n",
      "         [-7.8232e-02, -3.7049e-01, -3.7238e-01],\n",
      "         [-4.1292e-02,  1.5880e+00,  1.5285e+00],\n",
      "         [-1.0283e-01,  1.4029e+00,  1.5053e+00],\n",
      "         [-2.4116e-03, -1.0116e+00, -1.0373e+00],\n",
      "         [-2.2546e-03, -5.7728e-01, -4.5243e-01],\n",
      "         [-4.5131e-02,  1.4179e+00,  1.5189e+00],\n",
      "         [ 2.4564e-02,  1.2863e-02, -3.0052e-01],\n",
      "         [-3.5172e-02,  3.6372e-01,  6.7093e-01],\n",
      "         [ 1.0347e-01, -1.2760e+00, -1.5084e+00],\n",
      "         [-9.3265e-02, -1.4678e+00, -1.3084e+00],\n",
      "         [-3.5135e-04,  1.6025e+00,  1.4192e+00],\n",
      "         [-3.5626e-02,  1.2453e+00,  1.4208e+00],\n",
      "         [-6.0890e-02, -6.1622e-01, -5.2611e-01],\n",
      "         [ 2.8653e-02,  6.3021e-01,  6.8767e-01],\n",
      "         [-4.8760e-02,  6.4555e-01,  5.0112e-01],\n",
      "         [ 3.7789e-03, -9.6055e-02, -2.1344e-01],\n",
      "         [ 3.1423e-02, -2.0802e-01, -1.1117e-01],\n",
      "         [ 6.1636e-02, -1.5071e-01, -3.5219e-01],\n",
      "         [ 9.6461e-02, -1.3952e+00, -1.7255e+00],\n",
      "         [ 2.6513e-02,  1.7514e+00,  1.6962e+00],\n",
      "         [-1.4673e-01, -3.0123e-01, -1.8744e-01],\n",
      "         [ 1.1821e-01, -1.4223e-01, -2.4466e-01],\n",
      "         [ 2.3729e-02,  3.8396e-01,  3.6795e-01],\n",
      "         [-2.6855e-02, -3.7934e-02,  2.0108e-01],\n",
      "         [ 1.0450e-02,  2.5948e-01,  2.9682e-01],\n",
      "         [ 5.4303e-02,  3.1673e-01,  5.1172e-01],\n",
      "         [ 1.3026e-02,  6.0661e-02,  1.3312e-01],\n",
      "         [ 1.1515e-01, -9.3726e-01, -1.0191e+00],\n",
      "         [ 1.4853e-02, -1.1102e+00, -8.8707e-01],\n",
      "         [ 1.0572e-01, -1.1962e+00, -1.0665e+00],\n",
      "         [ 2.7144e-02, -7.9511e-01, -1.1227e+00],\n",
      "         [ 1.1580e-01,  1.2965e+00,  1.1076e+00],\n",
      "         [ 5.6190e-02, -9.1337e-01, -9.4562e-01],\n",
      "         [-8.1192e-02, -4.9387e-01, -3.2584e-01],\n",
      "         [ 8.5985e-02, -6.2790e-02, -1.2920e-01],\n",
      "         [-3.4352e-02,  1.3992e-01,  2.0839e-01],\n",
      "         [-6.0037e-02, -5.9700e-01, -7.4814e-01],\n",
      "         [-4.8091e-02,  7.4603e-01,  7.0871e-01],\n",
      "         [ 1.5557e-02, -1.1742e-03, -1.3929e-01],\n",
      "         [ 8.9651e-02, -1.2752e+00, -1.3697e+00],\n",
      "         [-1.2716e-02, -6.4674e-01, -8.5086e-01],\n",
      "         [-2.0291e-02, -1.2215e+00, -1.2826e+00],\n",
      "         [ 5.1837e-02,  1.2335e+00,  1.2325e+00],\n",
      "         [ 9.1247e-02, -9.2024e-01, -1.0760e+00],\n",
      "         [-1.0429e-01, -7.5697e-01, -5.0549e-01],\n",
      "         [ 9.1872e-02, -1.0741e+00, -1.0328e+00],\n",
      "         [-6.9953e-02, -6.9904e-01, -9.3985e-01],\n",
      "         [ 2.1240e-02, -1.6958e+00, -2.0428e+00],\n",
      "         [ 1.2799e-01, -5.3094e-01, -6.9457e-01]]], grad_fn=<StackBackward0>), sem_ids=tensor([[10, 11,  7]]))\n"
     ]
    },
    {
     "name": "stderr",
     "output_type": "stream",
     "text": [
      "/tmp/ipykernel_3095885/2064254168.py:12: UserWarning: To copy construct from a tensor, it is recommended to use sourceTensor.clone().detach() or sourceTensor.clone().detach().requires_grad_(True), rather than torch.tensor(sourceTensor).\n",
      "  tensor = torch.tensor(dataset[100]).unsqueeze(0)\n"
     ]
    }
   ],
   "source": [
    "from modules.rqvae import RqVae\n",
    "import torch\n",
    "model = RqVae(\n",
    "        input_dim=768,\n",
    "        embed_dim=96,\n",
    "        hidden_dim=32,\n",
    "        codebook_size=18,\n",
    "        n_layers=3\n",
    "    )\n",
    "model.load_state_dict(torch.load('model/best_model.pth'))\n",
    "model.eval()\n",
    "tensor = torch.tensor(dataset[100]).unsqueeze(0)\n",
    "output = model(tensor, 0.1, inference_only=True)\n",
    "print(output)"
   ]
  },
  {
   "cell_type": "code",
   "execution_count": 12,
   "metadata": {},
   "outputs": [
    {
     "name": "stdout",
     "output_type": "stream",
     "text": [
      "Using device: cuda\n",
      "tensor([[224,  30,  99]], device='cuda:0')\n"
     ]
    }
   ],
   "source": [
    "from torch.utils.data import DataLoader\n",
    "from modules.rqvae import RqVae\n",
    "import torch\n",
    "from data.movie_lens import MovieLensMovieData_from_embeddings\n",
    "dataset = MovieLensMovieData_from_embeddings('dataset/ml-1m')\n",
    "model = RqVae(\n",
    "        input_dim=768,\n",
    "        embed_dim=32,\n",
    "        hidden_dim=32,\n",
    "        codebook_size=256,\n",
    "        n_layers=3\n",
    "    )\n",
    "model.load_state_dict(torch.load('model/best_model.pth'))\n",
    "device = torch.device('cuda' if torch.cuda.is_available() else 'cpu')\n",
    "print(f\"Using device: {device}\")\n",
    "model.to(device)\n",
    "model.eval()\n",
    "dataloader = DataLoader(dataset, batch_size=1, shuffle=False)\n",
    "for iter, data in enumerate(dataloader):\n",
    "    data = data.to(device)\n",
    "    output = model(data, 0.1, inference_only=True)\n",
    "    print(output.sem_ids)\n",
    "    break"
   ]
  },
  {
   "cell_type": "code",
   "execution_count": 44,
   "metadata": {},
   "outputs": [
    {
     "data": {
      "text/plain": [
       "RqVaeOutput(embeddings=tensor([[[-2.1279e-01, -1.6085e-03, -1.0829e-03],\n",
       "         [-1.5489e-01, -2.2287e-03, -2.4117e-03],\n",
       "         [-2.8902e-01, -2.2383e-03,  3.3424e-04],\n",
       "         [ 2.3183e-01,  2.9849e-03,  4.6207e-03],\n",
       "         [ 1.5102e-02, -2.9136e-04, -4.9939e-03],\n",
       "         [-1.9096e-01, -4.1932e-03, -4.5743e-03],\n",
       "         [-4.7550e-02, -1.2259e-03, -2.2245e-03],\n",
       "         [-7.2962e-02,  2.1098e-04,  1.4350e-03],\n",
       "         [-5.4398e-02, -8.1457e-04, -3.1861e-03],\n",
       "         [-2.7724e-02,  7.2740e-04, -1.9347e-03],\n",
       "         [-3.1224e-02, -2.7112e-03, -3.2395e-03],\n",
       "         [ 8.1348e-02,  1.9481e-03,  1.6046e-06],\n",
       "         [ 2.1638e-02, -1.0291e-03, -3.9482e-03],\n",
       "         [ 1.0481e-02,  1.3886e-03, -2.9176e-03],\n",
       "         [ 5.6225e-02,  2.8352e-03,  3.1070e-03],\n",
       "         [-4.0707e-02, -2.1325e-03, -5.5716e-03],\n",
       "         [ 1.7387e-01, -1.8574e-03, -6.8113e-04],\n",
       "         [ 8.1570e-02,  4.0610e-04, -4.0925e-04],\n",
       "         [-8.4180e-02, -2.9425e-03, -2.0990e-03],\n",
       "         [ 1.4722e-01, -1.2060e-03, -1.5563e-03],\n",
       "         [ 4.0678e-02, -1.0284e-03, -4.0416e-03],\n",
       "         [ 9.9835e-02,  9.1383e-04, -1.5998e-03],\n",
       "         [-1.0133e-01, -1.6615e-03, -2.9799e-03],\n",
       "         [ 9.2259e-02,  1.2347e-03,  3.0379e-03],\n",
       "         [-1.4990e-01, -2.9665e-03, -5.9262e-03],\n",
       "         [-4.9120e-02, -1.6486e-03, -4.6621e-03],\n",
       "         [-7.2503e-02, -1.7759e-03, -2.7705e-03],\n",
       "         [ 2.6231e-01,  2.1768e-03,  2.1291e-04],\n",
       "         [-1.2865e-02,  3.4368e-04, -2.8169e-03],\n",
       "         [-9.4315e-02, -2.4551e-03, -3.0261e-03],\n",
       "         [-1.0446e-01, -2.9677e-03, -7.5042e-04],\n",
       "         [-1.0214e-01, -1.3624e-04,  3.5383e-03]]], device='cuda:0',\n",
       "       grad_fn=<StackBackward0>), residuals=tensor([[[-2.1991e-01, -7.1213e-03, -5.5128e-03],\n",
       "         [-1.5845e-01, -3.5593e-03, -1.3306e-03],\n",
       "         [-2.9203e-01, -3.0131e-03, -7.7482e-04],\n",
       "         [ 2.4001e-01,  8.1748e-03,  5.1899e-03],\n",
       "         [ 1.1769e-02, -3.3329e-03, -3.0415e-03],\n",
       "         [-1.9775e-01, -6.7858e-03, -2.5926e-03],\n",
       "         [-5.2887e-02, -5.3370e-03, -4.1110e-03],\n",
       "         [-7.1745e-02,  1.2172e-03,  1.0062e-03],\n",
       "         [-5.7982e-02, -3.5834e-03, -2.7688e-03],\n",
       "         [-2.8594e-02, -8.7061e-04, -1.5980e-03],\n",
       "         [-3.6729e-02, -5.5054e-03, -2.7942e-03],\n",
       "         [ 8.3820e-02,  2.4728e-03,  5.2467e-04],\n",
       "         [ 1.7427e-02, -4.2106e-03, -3.1815e-03],\n",
       "         [ 9.6161e-03, -8.6514e-04, -2.2538e-03],\n",
       "         [ 6.2806e-02,  6.5807e-03,  3.7454e-03],\n",
       "         [-4.6939e-02, -6.2324e-03, -4.0999e-03],\n",
       "         [ 1.7390e-01,  3.1412e-05,  1.8889e-03],\n",
       "         [ 8.1602e-02,  3.1069e-05, -3.7504e-04],\n",
       "         [-8.8839e-02, -4.6590e-03, -1.7165e-03],\n",
       "         [ 1.4601e-01, -1.2118e-03, -5.7709e-06],\n",
       "         [ 3.7119e-02, -3.5595e-03, -2.5311e-03],\n",
       "         [ 9.8677e-02, -1.1579e-03, -2.0718e-03],\n",
       "         [-1.0590e-01, -4.5707e-03, -2.9092e-03],\n",
       "         [ 9.7071e-02,  4.8127e-03,  3.5780e-03],\n",
       "         [-1.5809e-01, -8.1881e-03, -5.2216e-03],\n",
       "         [-5.3693e-02, -4.5729e-03, -2.9243e-03],\n",
       "         [-7.6246e-02, -3.7435e-03, -1.9677e-03],\n",
       "         [ 2.6510e-01,  2.7919e-03,  6.1510e-04],\n",
       "         [-1.5136e-02, -2.2706e-03, -2.6143e-03],\n",
       "         [-9.8715e-02, -4.3995e-03, -1.9443e-03],\n",
       "         [-1.0746e-01, -3.0011e-03, -3.3411e-05],\n",
       "         [-1.0130e-01,  8.4639e-04,  9.8263e-04]]], device='cuda:0',\n",
       "       grad_fn=<StackBackward0>), sem_ids=tensor([[224,  30,  99]], device='cuda:0'))"
      ]
     },
     "execution_count": 44,
     "metadata": {},
     "output_type": "execute_result"
    }
   ],
   "source": [
    "x = dataset[10].unsqueeze(0).to(device)\n",
    "output = model(x, 0.1, inference_only=True)\n",
    "output"
   ]
  },
  {
   "cell_type": "code",
   "execution_count": 29,
   "metadata": {},
   "outputs": [
    {
     "name": "stdout",
     "output_type": "stream",
     "text": [
      "tensor(0.9619) tensor(0.8055)\n"
     ]
    }
   ],
   "source": [
    "max = 0\n",
    "min = 1\n",
    "for i in range(len(dataset)):\n",
    "    for j in range(len(dataset)):\n",
    "        if i == j:\n",
    "            continue\n",
    "        a = dataset[i]\n",
    "        b = dataset[j]\n",
    "        sim = torch.dot(a, b)/(torch.norm(a)*torch.norm(b))\n",
    "        if sim > max:\n",
    "            max = sim\n",
    "        if sim < min:\n",
    "            min = sim\n",
    "print(max, min)\n"
   ]
  },
  {
   "cell_type": "code",
   "execution_count": 28,
   "metadata": {},
   "outputs": [
    {
     "name": "stdout",
     "output_type": "stream",
     "text": [
      "tensor(0.7803)\n"
     ]
    }
   ],
   "source": [
    "i = 0\n",
    "j = 900\n",
    "a = dataset[i]\n",
    "b = dataset[j]\n",
    "sim = torch.dot(a, b)/(torch.norm(a)*torch.norm(b))\n",
    "print(sim)"
   ]
  }
 ],
 "metadata": {
  "kernelspec": {
   "display_name": "base",
   "language": "python",
   "name": "python3"
  },
  "language_info": {
   "codemirror_mode": {
    "name": "ipython",
    "version": 3
   },
   "file_extension": ".py",
   "mimetype": "text/x-python",
   "name": "python",
   "nbconvert_exporter": "python",
   "pygments_lexer": "ipython3",
   "version": "3.8.12"
  }
 },
 "nbformat": 4,
 "nbformat_minor": 2
}
